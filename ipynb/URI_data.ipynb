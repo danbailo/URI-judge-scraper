{
 "cells": [
  {
   "cell_type": "code",
   "execution_count": 2,
   "metadata": {},
   "outputs": [],
   "source": [
    "import os\n",
    "import cfscrape\n",
    "from bs4 import BeautifulSoup\n",
    "from docx import Document\n",
    "from docx.shared import Inches"
   ]
  },
  {
   "cell_type": "code",
   "execution_count": 3,
   "metadata": {},
   "outputs": [],
   "source": [
    "scraper = cfscrape.create_scraper()"
   ]
  },
  {
   "cell_type": "code",
   "execution_count": 5,
   "metadata": {},
   "outputs": [],
   "source": [
    "if not os.path.exists(os.path.join('..','output')):\n",
    "    os.mkdir(os.path.join('..','output'))"
   ]
  },
  {
   "cell_type": "code",
   "execution_count": 6,
   "metadata": {},
   "outputs": [],
   "source": [
    "document = Document()\n",
    "document.add_heading('URI - Questões', 0)\n",
    "\n",
    "with open('../input/lista.txt') as file:\n",
    "    for line in file:\n",
    "        request = scraper.get('https://www.urionlinejudge.com.br/repository/UOJ_'+line.strip()+'.html')\n",
    "        if request.status_code==404: continue\n",
    "        request.encoding=\"utf-8\"\n",
    "        soup = BeautifulSoup(request.text, 'html.parser')\n",
    "        description_ = soup.find(class_='description')\n",
    "        input_ = soup.find(class_='input')\n",
    "        output_ = soup.find(class_='output')\n",
    "\n",
    "        document.add_heading('Questão '+line.strip(), level=1)\n",
    "\n",
    "        document.add_heading('Descrição', level=2)\n",
    "        document.add_paragraph(description_.text.strip())\n",
    "\n",
    "        document.add_heading('Entrada', level=3)\n",
    "        document.add_paragraph(input_.text.strip())\n",
    "\n",
    "        document.add_heading('Saída', level=4)\n",
    "        document.add_paragraph(output_.text.strip())\n",
    "\n",
    "document.save(os.path.join('..','output','questions.docx'))"
   ]
  }
 ],
 "metadata": {
  "kernelspec": {
   "display_name": "Python 3",
   "language": "python",
   "name": "python3"
  },
  "language_info": {
   "codemirror_mode": {
    "name": "ipython",
    "version": 3
   },
   "file_extension": ".py",
   "mimetype": "text/x-python",
   "name": "python",
   "nbconvert_exporter": "python",
   "pygments_lexer": "ipython3",
   "version": "3.6.8"
  }
 },
 "nbformat": 4,
 "nbformat_minor": 4
}
