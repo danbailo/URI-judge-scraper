{
 "cells": [
  {
   "cell_type": "code",
   "execution_count": 50,
   "metadata": {},
   "outputs": [],
   "source": [
    "import requests\n",
    "import cfscrape\n",
    "from bs4 import BeautifulSoup"
   ]
  },
  {
   "cell_type": "code",
   "execution_count": 2,
   "metadata": {},
   "outputs": [],
   "source": [
    "request = requests.get('https://www.urionlinejudge.com.br/judge/pt/problems/view/1069')"
   ]
  },
  {
   "cell_type": "code",
   "execution_count": 55,
   "metadata": {},
   "outputs": [],
   "source": [
    "scraper = cfscrape.create_scraper()\n",
    "soup = BeautifulSoup(scraper.get(\"https://www.urionlinejudge.com.br/judge/pt/problems/view/1069\").text, 'html.parser')"
   ]
  },
  {
   "cell_type": "code",
   "execution_count": 58,
   "metadata": {},
   "outputs": [
    {
     "data": {
      "text/plain": [
       "\n",
       "<!DOCTYPE html>\n",
       "\n",
       "<html lang=\"pt\">\n",
       "<head>\n",
       "<meta charset=\"utf-8\"/> <meta content=\"width=device-width, initial-scale=1.0\" name=\"viewport\"/>\n",
       "<title>1069 - Diamantes e Areia - URI Online Judge</title>\n",
       "<link href=\"/judge/favicon.ico?1452205133\" rel=\"icon\" type=\"image/x-icon\"/><link href=\"/judge/favicon.ico?1452205133\" rel=\"shortcut icon\" type=\"image/x-icon\"/>\n",
       "<meta content=\"URI Online Judge is a project developed for you! Our goal is to provide a platform where you can learn, practice and sharpen your skills in algorithms and programming languages.\" name=\"description\">\n",
       "<meta content=\"URI Online Judge, urionlinejudge, uri, online judge, judge, problems, contests\" name=\"keywords\"/>\n",
       "<meta content=\"1 days\" name=\"revisit-after\"/>\n",
       "<meta content=\"index, nofollow\" name=\"robots\"/>\n",
       "<meta content=\"#FFFFFF\" name=\"theme-color\"/>\n",
       "<link href=\"https://resources.urionlinejudge.com.br\" rel=\"preconnect\"/>\n",
       "<link href=\"https://fonts.googleapis.com\" rel=\"preconnect\"/>\n",
       "<link href=\"https://www.google-analytics.com\" rel=\"preconnect\"/>\n",
       "<link as=\"font\" crossorigin=\"\" href=\"https://resources.urionlinejudge.com.br/judge/fonts/BryantMedium.woff2\" rel=\"preload\"/>\n",
       "<link href=\"/judge/app/manifest.json\" rel=\"manifest\"/>\n",
       "<meta content=\"539776889439310\" property=\"fb:app_id\"/>\n",
       "<meta content=\"1069 - Diamantes e Areia - URI Online Judge\" property=\"og:title\"/>\n",
       "<meta content=\"URI Online Judge is a project developed for you! Our goal is to provide a platform where you can learn, practice and sharpen your skills in algorithms and programming languages.\" property=\"og:description\"/>\n",
       "<meta content=\"https://www.urionlinejudge.com.br/judge/pt/problems/view/1069\" property=\"og:url\"/>\n",
       "<meta content=\"https://www.urionlinejudge.com.br/judge/img/facebook/uri-online-judge-made-in-brasil.png\" property=\"og:image\"/>\n",
       "<head prefix=\"og: http://ogp.me/ns# fb: http://ogp.me/ns/fb# urionlinejudge: http://ogp.me/ns/fb/urionlinejudge#\">\n",
       "<meta content=\"urionlinejudge:problem\" property=\"og:type\"/>\n",
       "<link href=\"https://plus.google.com/118420623550385726147\" rel=\"publisher\">\n",
       "<link href=\"https://fonts.googleapis.com/css?family=Ubuntu:400,700\" rel=\"stylesheet\" type=\"text/css\"/>\n",
       "<link href=\"/judge/css/default.css?1566320614\" rel=\"stylesheet\">\n",
       "<script type=\"application/ld+json\">\n",
       "        {\n",
       "            \"@context\": \"https://schema.org\",\n",
       "            \"@type\": \"Organization\",\n",
       "            \"url\": \"https://www.urionlinejudge.com.br\",\n",
       "            \"logo\": \"https://resources.urionlinejudge.com.br/judge/img/5.0/logo-big.png\"\n",
       "        }\n",
       "        </script>\n",
       "<script type=\"application/ld+json\">\n",
       "        {\n",
       "            \"@context\": \"https://schema.org\",\n",
       "            \"@type\": \"Person\",\n",
       "            \"name\": \"URI Online Judge\",\n",
       "            \"url\": \"https://www.urionlinejudge.com.br\",\n",
       "            \"sameAs\": [\n",
       "                \"https://www.facebook.com/urionlinejudge/\",\n",
       "                \"https://www.instagram.com/urionlinejudge\",\n",
       "                \"https://twitter.com/urionlinejudge\",\n",
       "                \"https://pt.linkedin.com/company/uri-online-judge\",\n",
       "                \"https://plus.google.com/+urionlinejudgebrazil\"\n",
       "            ]\n",
       "        }\n",
       "        </script>\n",
       "<script>\n",
       "            (function(i,s,o,g,r,a,m){i['GoogleAnalyticsObject']=r;i[r]=i[r]||function(){\n",
       "            (i[r].q=i[r].q||[]).push(arguments)},i[r].l=1*new Date();a=s.createElement(o),\n",
       "            m=s.getElementsByTagName(o)[0];a.async=1;a.src=g;m.parentNode.insertBefore(a,m)\n",
       "            })(window,document,'script','https://www.google-analytics.com/analytics.js','ga');\n",
       "            ga('create', 'UA-28047757-1', {'cookieDomain': 'urionlinejudge.com.br', 'siteSpeedSampleRate': 50});\n",
       "            ga('require', 'linkid', 'linkid.js');\n",
       "            ga('send', 'pageview');\n",
       "        </script>\n",
       "</link></link></head>\n",
       "<body class=\"website-mode\">\n",
       "<div id=\"container\">\n",
       "<header class=\"ribbon\">\n",
       "<div class=\"content\">\n",
       "<div class=\"h-small\">\n",
       "<div class=\"h-flag h-flag-pt animated rubberBand\">\n",
       "<ul class=\"h-language-menu\">\n",
       "<li>\n",
       "<a href=\"/judge/en/problems/view\">Inglês</a> </li>\n",
       "<li>\n",
       "<a href=\"/judge/pt/problems/view\">Português</a> </li>\n",
       "<li>\n",
       "<a href=\"/judge/es/problems/view\">Español</a> </li>\n",
       "</ul>\n",
       "</div>\n",
       "<div class=\"h-language\">\n",
       "                PORTUGUÊS            </div>\n",
       "</div>\n",
       "<div class=\"h-large\">\n",
       "<ul id=\"menu\">\n",
       "<li>\n",
       "<a href=\"/judge/pt/login\">Login</a> </li>\n",
       "<li>\n",
       "<a href=\"/judge/pt/register\">Registrar</a> </li>\n",
       "<li>\n",
       "<a href=\"/judge/pt/forum\">Fórum</a> </li>\n",
       "<li>\n",
       "<a href=\"https://www.urionlinejudge.com.br/academic\" target=\"_blank\">Academic</a> </li>\n",
       "<li>\n",
       "<a href=\"/judge/pt/contests\">Contests</a> </li>\n",
       "<li>\n",
       "<a href=\"/judge/pt/categories\">Problemas</a> </li>\n",
       "<li>\n",
       "<a href=\"/judge/pt/rank\">Ranks</a>\n",
       "<ul class=\"h-sub-menu\">\n",
       "<li>\n",
       "<a href=\"/judge/pt/rank\">RANK PRINCIPAL</a> </li>\n",
       "<li>\n",
       "<a href=\"/judge/pt/universities\">Universidades</a> </li>\n",
       "<li>\n",
       "<a href=\"/judge/pt/countries\">Países</a> </li>\n",
       "</ul>\n",
       "</li>\n",
       "</ul>\n",
       "</div>\n",
       "</div>\n",
       "</header>\n",
       "<div class=\"content page\">\n",
       "<div id=\"side-bar\">\n",
       "<div id=\"logo\">\n",
       "<a href=\"/judge/pt\"><img alt=\"URI Online Judge\" height=\"94\" src=\"/judge/img/5.0/logo.130615.png?1452205133\" title=\"URI Online Judge\" width=\"162\"/></a></div>\n",
       "<div class=\"tour-step-problem-menu\" id=\"problem-menu\">\n",
       "<h3 class=\"p-level-3\">1069</h3>\n",
       "<span>Nível 3 / 10</span>\n",
       "<div class=\"image\"></div>\n",
       "<ul class=\"information\">\n",
       "<li>\n",
       "<a href=\"/judge/pt/problems/view/1069\">Descrição</a> </li>\n",
       "<li>\n",
       "<a href=\"https://www.urionlinejudge.com.br/repository/UOJ_1069.html\" target=\"_blank\">Tela Cheia</a> </li>\n",
       "<li>\n",
       "<a href=\"/judge/pt/runs/add/1069\">Enviar</a> </li>\n",
       "<li>\n",
       "<a href=\"/judge/pt/ranks/problem/1069/2\">Ranking</a> </li>\n",
       "<li>\n",
       "<a href=\"/judge/pt/questions/index/1069\">Fórum</a> </li>\n",
       "<li>\n",
       "<a href=\"https://www.udebug.com/URI/1069\" target=\"_blank\">uDebug</a> </li>\n",
       "</ul>\n",
       "<em class=\"points\">+ 3.8 PONTOS</em>\n",
       "<a class=\"place-view p-level-3\" href=\"/judge/pt/problems/index/4\" target=\"_blank\">Estruturas e Bibliotecas</a></div>\n",
       "</div>\n",
       "<div class=\"main-content\">\n",
       "<div id=\"description\">\n",
       "<iframe id=\"description-html\" onload=\"autoResize()\" src=\"/repository/UOJ_1069.html\">\n",
       "<p>Desculpe, mas seu navegador não suporta iframes.</p>\n",
       "</iframe>\n",
       "</div>\n",
       "</div>\n",
       "<script>\n",
       "    function autoResize() {\n",
       "        var id = 'description-html';\n",
       "        var height;\n",
       "        var width;\n",
       "\n",
       "        if (document.getElementById) {\n",
       "            height = document.getElementById(id).contentWindow.document.body.scrollHeight;\n",
       "            width = document.getElementById(id).contentWindow.document.body.scrollWidth;\n",
       "        }\n",
       "\n",
       "        document.getElementById(id).height = (height) + 'px';\n",
       "        document.getElementById(id).width = (width) + 'px';\n",
       "\n",
       "        document.getElementById(id).contentWindow.document.body.style.padding = \"10px 0px\";\n",
       "    }\n",
       "</script>\n",
       "<div class=\"both\"></div>\n",
       "</div>\n",
       "<footer class=\"ribbon\">\n",
       "<div class=\"footer-content\">\n",
       "<div class=\"site-coyright\">© 2011 - 2019 URI Online Judge</div>\n",
       "<ul class=\"site-information\">\n",
       "<li>\n",
       "<a href=\"/judge/pt/cookies\">Cookies</a> </li>\n",
       "<li class=\"division\">|</li>\n",
       "<li>\n",
       "<a href=\"/judge/pt/privacy\">Privacidade</a> </li>\n",
       "<li class=\"division\">|</li>\n",
       "<li>\n",
       "<a href=\"/judge/pt/terms-and-conditions\">Termos &amp; Condições</a> </li>\n",
       "<li class=\"division\">|</li>\n",
       "<li>\n",
       "<a href=\"/judge/pt/faqs/about/judge\">FAQs</a> </li>\n",
       "<li class=\"division\">|</li>\n",
       "<li>\n",
       "<a href=\"http://status.urionlinejudge.com.br/\" rel=\"noopener noreferrer\" target=\"_blank\">Status</a> </li>\n",
       "<li class=\"division\">|</li>\n",
       "<li>\n",
       "<a href=\"/judge/pt/credits\">Créditos</a> </li>\n",
       "<li class=\"division\">|</li>\n",
       "<li>\n",
       "<a href=\"/judge/pt/contact\">Contato</a> </li>\n",
       "</ul>\n",
       "<div class=\"site-version\">Version 5.6.0.140419</div>\n",
       "</div>\n",
       "</footer>\n",
       "</div>\n",
       "<!--<script src=\"https://ajax.googleapis.com/ajax/libs/jquery/1.10.2/jquery.min.js\"></script>-->\n",
       "<script crossorigin=\"anonymous\" integrity=\"sha256-CSXorXvZcTkaix6Yvo6HppcZGetbYMGWSFlBw8HfCJo=\" src=\"https://code.jquery.com/jquery-3.4.1.min.js\"></script>\n",
       "<script crossorigin=\"anonymous\" integrity=\"sha256-ycJeXbll9m7dHKeaPbXBkZH8BuP99SmPm/8q5O+SbBc=\" src=\"https://code.jquery.com/jquery-migrate-3.1.0.min.js\"></script>\n",
       "<!--<script src=\"https://code.jquery.com/jquery-3.0.0.js\"></script>-->\n",
       "<!--<script src=\"https://code.jquery.com/jquery-migrate-3.0.1.js\"></script>-->\n",
       "<script src=\"/judge/js/auxiliary.min.js?1548021072\"></script>\n",
       "<script src=\"/judge/js/default.min.js?1548021011\"></script>\n",
       "</body>\n",
       "</meta></head></html>"
      ]
     },
     "execution_count": 58,
     "metadata": {},
     "output_type": "execute_result"
    }
   ],
   "source": [
    "soup"
   ]
  },
  {
   "cell_type": "code",
   "execution_count": 92,
   "metadata": {},
   "outputs": [],
   "source": [
    "request = scraper.get('https://www.urionlinejudge.com.br/repository/UOJ_1069.html')\n",
    "request.encoding=\"utf-8\""
   ]
  },
  {
   "cell_type": "code",
   "execution_count": 104,
   "metadata": {},
   "outputs": [
    {
     "name": "stdout",
     "output_type": "stream",
     "text": [
      ">\n"
     ]
    }
   ],
   "source": [
    "import html\n",
    "print(html.unescape('&gt;'))"
   ]
  },
  {
   "cell_type": "code",
   "execution_count": 93,
   "metadata": {},
   "outputs": [],
   "source": [
    "new_soup = BeautifulSoup(request.text, 'html.parser')"
   ]
  },
  {
   "cell_type": "code",
   "execution_count": 140,
   "metadata": {},
   "outputs": [
    {
     "data": {
      "text/plain": [
       "﻿<!DOCTYPE html>\n",
       "\n",
       "<html>\n",
       "<head>\n",
       "<title>URI 1069 - Diamantes e Areia</title>\n",
       "<meta content=\"text/html; charset=utf-8\" http-equiv=\"Content-Type\"/>\n",
       "<meta content=\"URI Online Judge; www.urionlinejudge.edu.br\" name=\"author\">\n",
       "<meta content=\"URI Online Judge - Problem 1069 - Diamantes e Areia\" name=\"description\"/>\n",
       "<link href=\"https://fonts.googleapis.com/css?family=Ubuntu:400,700\" rel=\"stylesheet\" type=\"text/css\"/>\n",
       "<link href=\"https://resources.urionlinejudge.com.br/repository/default.css\" rel=\"stylesheet\" type=\"text/css\">\n",
       "<script async=\"\" src=\"https://www.googletagmanager.com/gtag/js?id=UA-28047757-1\"></script>\n",
       "<script>\n",
       "\t\twindow.dataLayer = window.dataLayer || [];\n",
       "\t\tfunction gtag(){dataLayer.push(arguments);}\n",
       "\t\tgtag('js', new Date());\n",
       "\n",
       "\t\tgtag('config', 'UA-28047757-1');\n",
       "\t</script>\n",
       "</link></meta></head>\n",
       "<body>\n",
       "<div class=\"header\">\n",
       "<span>URI Online Judge | 1069</span>\n",
       "<h1>Diamantes e Areia</h1>\n",
       "<div><p>\n",
       "                    Por Neilor Tonin, URI <img alt=\"\" src=\"https://resources.urionlinejudge.com.br/gallery/images/flags/br.gif\" style=\"width: 16px; height: 11px; \"/> Brasil</p>\n",
       "</div>\n",
       "<strong>Timelimit: 1</strong>\n",
       "</div>\n",
       "<div class=\"problem\">\n",
       "<div class=\"description\">\n",
       "<p>\n",
       "                    João está trabalhando em uma mina, tentando retirar o máximo que consegue de diamantes \"&lt;&gt;\". Ele deve excluir todas as particulas de areia \".\" do processo e a cada retirada de diamante, novos diamantes poderão se formar. Se ele tem como uma entrada .&lt;...&lt;&lt;..&gt;&gt;....&gt;....&gt;&gt;&gt;., três diamantes são formados. O primeiro é retirado de &lt;..&gt;, resultando  .&lt;...&lt;&gt;....&gt;....&gt;&gt;&gt;. Em seguida o segundo diamante é retirado, restando .&lt;.......&gt;....&gt;&gt;&gt;. O terceiro diamante é então retirado, restando no final .....&gt;&gt;&gt;., sem possibilidade de extração de novo diamante.</p>\n",
       "</div>\n",
       "<h2>Entrada</h2>\n",
       "<div class=\"input\">\n",
       "<p>\n",
       "                    Deve ser lido um valor inteiro <strong>N</strong> que representa a quantidade de casos de teste. Cada linha a seguir é um caso de teste que contém até 1000 caracteres, incluindo \"<strong>&lt;</strong>,<strong>&gt;</strong>, <strong>.</strong>\"</p>\n",
       "</div>\n",
       "<h2>Saída</h2>\n",
       "<div class=\"output\">\n",
       "<p>\n",
       "                    Você deve imprimir a quantidade de diamantes possíveis de serem extraídos em cada caso de entrada.</p>\n",
       "</div>\n",
       "<div class=\"both\"></div>\n",
       "<table>\n",
       "<thead>\n",
       "<tr>\n",
       "<td>Exemplo de Entrada</td>\n",
       "<td>Exemplo de Saída</td>\n",
       "</tr>\n",
       "</thead>\n",
       "<tbody>\n",
       "<tr>\n",
       "<td class=\"division\">\n",
       "<p>\n",
       "                                2</p>\n",
       "<p>\n",
       "                                &lt;..&gt;&lt;.&lt;..&gt;&gt;</p>\n",
       "<p>\n",
       "                                &lt;&lt;&lt;..&lt;......&lt;&lt;&lt;&lt;....&gt;</p>\n",
       "</td>\n",
       "<td>\n",
       "<p>\n",
       "                                3</p>\n",
       "<p>\n",
       "                                1</p>\n",
       "</td>\n",
       "</tr>\n",
       "</tbody>\n",
       "</table>\n",
       "<p class=\"footer\">\n",
       "<em>Baseado no problema \"Caçador de Diamantes\"</em></p>\n",
       "</div>\n",
       "</body>\n",
       "</html>"
      ]
     },
     "execution_count": 140,
     "metadata": {},
     "output_type": "execute_result"
    }
   ],
   "source": [
    "new_soup"
   ]
  },
  {
   "cell_type": "code",
   "execution_count": 143,
   "metadata": {},
   "outputs": [
    {
     "data": {
      "text/plain": [
       "﻿<!DOCTYPE html>\n",
       "\n",
       "<html>\n",
       "<head>\n",
       "<title>URI 1069 - Diamantes e Areia</title>\n",
       "<meta content=\"text/html; charset=utf-8\" http-equiv=\"Content-Type\"/>\n",
       "<meta content=\"URI Online Judge; www.urionlinejudge.edu.br\" name=\"author\">\n",
       "<meta content=\"URI Online Judge - Problem 1069 - Diamantes e Areia\" name=\"description\"/>\n",
       "<link href=\"https://fonts.googleapis.com/css?family=Ubuntu:400,700\" rel=\"stylesheet\" type=\"text/css\"/>\n",
       "<link href=\"https://resources.urionlinejudge.com.br/repository/default.css\" rel=\"stylesheet\" type=\"text/css\">\n",
       "<script async=\"\" src=\"https://www.googletagmanager.com/gtag/js?id=UA-28047757-1\"></script>\n",
       "<script>\n",
       "\t\twindow.dataLayer = window.dataLayer || [];\n",
       "\t\tfunction gtag(){dataLayer.push(arguments);}\n",
       "\t\tgtag('js', new Date());\n",
       "\n",
       "\t\tgtag('config', 'UA-28047757-1');\n",
       "\t</script>\n",
       "</link></meta></head>\n",
       "<body>\n",
       "<div class=\"header\">\n",
       "<span>URI Online Judge | 1069</span>\n",
       "<h1>Diamantes e Areia</h1>\n",
       "<div><p>\n",
       "                    Por Neilor Tonin, URI <img alt=\"\" src=\"https://resources.urionlinejudge.com.br/gallery/images/flags/br.gif\" style=\"width: 16px; height: 11px; \"/> Brasil</p>\n",
       "</div>\n",
       "<strong>Timelimit: 1</strong>\n",
       "</div>\n",
       "<div class=\"problem\">\n",
       "<div class=\"description\">\n",
       "<p>\n",
       "                    João está trabalhando em uma mina, tentando retirar o máximo que consegue de diamantes \"&lt;&gt;\". Ele deve excluir todas as particulas de areia \".\" do processo e a cada retirada de diamante, novos diamantes poderão se formar. Se ele tem como uma entrada .&lt;...&lt;&lt;..&gt;&gt;....&gt;....&gt;&gt;&gt;., três diamantes são formados. O primeiro é retirado de &lt;..&gt;, resultando  .&lt;...&lt;&gt;....&gt;....&gt;&gt;&gt;. Em seguida o segundo diamante é retirado, restando .&lt;.......&gt;....&gt;&gt;&gt;. O terceiro diamante é então retirado, restando no final .....&gt;&gt;&gt;., sem possibilidade de extração de novo diamante.</p>\n",
       "</div>\n",
       "<h2>Entrada</h2>\n",
       "<div class=\"input\">\n",
       "<p>\n",
       "                    Deve ser lido um valor inteiro <strong>N</strong> que representa a quantidade de casos de teste. Cada linha a seguir é um caso de teste que contém até 1000 caracteres, incluindo \"<strong>&lt;</strong>,<strong>&gt;</strong>, <strong>.</strong>\"</p>\n",
       "</div>\n",
       "<h2>Saída</h2>\n",
       "<div class=\"output\">\n",
       "<p>\n",
       "                    Você deve imprimir a quantidade de diamantes possíveis de serem extraídos em cada caso de entrada.</p>\n",
       "</div>\n",
       "<div class=\"both\"></div>\n",
       "<table>\n",
       "<thead>\n",
       "<tr>\n",
       "<td>Exemplo de Entrada</td>\n",
       "<td>Exemplo de Saída</td>\n",
       "</tr>\n",
       "</thead>\n",
       "<tbody>\n",
       "<tr>\n",
       "<td class=\"division\">\n",
       "<p>\n",
       "                                2</p>\n",
       "<p>\n",
       "                                &lt;..&gt;&lt;.&lt;..&gt;&gt;</p>\n",
       "<p>\n",
       "                                &lt;&lt;&lt;..&lt;......&lt;&lt;&lt;&lt;....&gt;</p>\n",
       "</td>\n",
       "<td>\n",
       "<p>\n",
       "                                3</p>\n",
       "<p>\n",
       "                                1</p>\n",
       "</td>\n",
       "</tr>\n",
       "</tbody>\n",
       "</table>\n",
       "<p class=\"footer\">\n",
       "<em>Baseado no problema \"Caçador de Diamantes\"</em></p>\n",
       "</div>\n",
       "</body>\n",
       "</html>"
      ]
     },
     "execution_count": 143,
     "metadata": {},
     "output_type": "execute_result"
    }
   ],
   "source": [
    "new_soup"
   ]
  },
  {
   "cell_type": "code",
   "execution_count": 134,
   "metadata": {},
   "outputs": [],
   "source": [
    "description_ = new_soup.find(class_='description')"
   ]
  },
  {
   "cell_type": "code",
   "execution_count": 138,
   "metadata": {},
   "outputs": [
    {
     "data": {
      "text/plain": [
       "'\\n\\n                    João está trabalhando em uma mina, tentando retirar o máximo que consegue de diamantes \"<>\". Ele deve excluir todas as particulas de areia \".\" do processo e a cada retirada de diamante, novos diamantes poderão se formar. Se ele tem como uma entrada .<...<<..>>....>....>>>., três diamantes são formados. O primeiro é retirado de <..>, resultando\\xa0 .<...<>....>....>>>. Em seguida o segundo diamante é retirado, restando .<.......>....>>>. O terceiro diamante é então retirado, restando no final .....>>>., sem possibilidade de extração de novo diamante.\\n'"
      ]
     },
     "execution_count": 138,
     "metadata": {},
     "output_type": "execute_result"
    }
   ],
   "source": [
    "description_.text"
   ]
  },
  {
   "cell_type": "code",
   "execution_count": 131,
   "metadata": {},
   "outputs": [],
   "source": [
    "input_ = new_soup.find(class_='input')"
   ]
  },
  {
   "cell_type": "code",
   "execution_count": 139,
   "metadata": {},
   "outputs": [
    {
     "data": {
      "text/plain": [
       "'\\n\\n                    Deve ser lido um valor inteiro N que representa a quantidade de casos de teste. Cada linha a seguir é um caso de teste que contém até 1000 caracteres, incluindo \"<,>, .\"\\n'"
      ]
     },
     "execution_count": 139,
     "metadata": {},
     "output_type": "execute_result"
    }
   ],
   "source": [
    "input_.text"
   ]
  },
  {
   "cell_type": "code",
   "execution_count": 144,
   "metadata": {},
   "outputs": [],
   "source": [
    "output_ = new_soup.find(class_='output')"
   ]
  },
  {
   "cell_type": "code",
   "execution_count": 146,
   "metadata": {},
   "outputs": [
    {
     "data": {
      "text/plain": [
       "'\\n\\n                    Você deve imprimir a quantidade de diamantes possíveis de serem extraídos em cada caso de entrada.\\n'"
      ]
     },
     "execution_count": 146,
     "metadata": {},
     "output_type": "execute_result"
    }
   ],
   "source": [
    "output_.text"
   ]
  },
  {
   "cell_type": "code",
   "execution_count": null,
   "metadata": {},
   "outputs": [],
   "source": []
  },
  {
   "cell_type": "code",
   "execution_count": null,
   "metadata": {},
   "outputs": [],
   "source": []
  },
  {
   "cell_type": "markdown",
   "metadata": {},
   "source": [
    "Pegando somente os paragrafos"
   ]
  },
  {
   "cell_type": "code",
   "execution_count": null,
   "metadata": {},
   "outputs": [],
   "source": [
    "problem = new_soup.find(class_='problem')"
   ]
  },
  {
   "cell_type": "code",
   "execution_count": 117,
   "metadata": {},
   "outputs": [],
   "source": [
    "description = ''"
   ]
  },
  {
   "cell_type": "code",
   "execution_count": 120,
   "metadata": {},
   "outputs": [
    {
     "name": "stdout",
     "output_type": "stream",
     "text": [
      "João está trabalhando em uma mina, tentando retirar o máximo que consegue de diamantes \"<>\". Ele deve excluir todas as particulas de areia \".\" do processo e a cada retirada de diamante, novos diamantes poderão se formar. Se ele tem como uma entrada .<...<<..>>....>....>>>., três diamantes são formados. O primeiro é retirado de <..>, resultando  .<...<>....>....>>>. Em seguida o segundo diamante é retirado, restando .<.......>....>>>. O terceiro diamante é então retirado, restando no final .....>>>., sem possibilidade de extração de novo diamante.\n",
      "Deve ser lido um valor inteiro N que representa a quantidade de casos de teste. Cada linha a seguir é um caso de teste que contém até 1000 caracteres, incluindo \"<,>, .\"\n",
      "Você deve imprimir a quantidade de diamantes possíveis de serem extraídos em cada caso de entrada.\n",
      "2\n",
      "<..><.<..>>\n",
      "<<<..<......<<<<....>\n",
      "3\n",
      "1\n",
      "Baseado no problema \"Caçador de Diamantes\"\n"
     ]
    }
   ],
   "source": [
    "for text in problem.findAll('p'):\n",
    "    print(text.text.strip())"
   ]
  },
  {
   "cell_type": "code",
   "execution_count": 119,
   "metadata": {},
   "outputs": [
    {
     "data": {
      "text/plain": [
       "'João está trabalhando em uma mina, tentando retirar o máximo que consegue de diamantes \"<>\". Ele deve excluir todas as particulas de areia \".\" do processo e a cada retirada de diamante, novos diamantes poderão se formar. Se ele tem como uma entrada .<...<<..>>....>....>>>., três diamantes são formados. O primeiro é retirado de <..>, resultando\\xa0 .<...<>....>....>>>. Em seguida o segundo diamante é retirado, restando .<.......>....>>>. O terceiro diamante é então retirado, restando no final .....>>>., sem possibilidade de extração de novo diamante.Deve ser lido um valor inteiro N que representa a quantidade de casos de teste. Cada linha a seguir é um caso de teste que contém até 1000 caracteres, incluindo \"<,>, .\"Você deve imprimir a quantidade de diamantes possíveis de serem extraídos em cada caso de entrada.2<..><.<..>><<<..<......<<<<....>31Baseado no problema \"Caçador de Diamantes\"'"
      ]
     },
     "execution_count": 119,
     "metadata": {},
     "output_type": "execute_result"
    }
   ],
   "source": [
    "description"
   ]
  },
  {
   "cell_type": "code",
   "execution_count": null,
   "metadata": {},
   "outputs": [],
   "source": []
  }
 ],
 "metadata": {
  "kernelspec": {
   "display_name": "Python 3",
   "language": "python",
   "name": "python3"
  },
  "language_info": {
   "codemirror_mode": {
    "name": "ipython",
    "version": 3
   },
   "file_extension": ".py",
   "mimetype": "text/x-python",
   "name": "python",
   "nbconvert_exporter": "python",
   "pygments_lexer": "ipython3",
   "version": "3.6.8"
  }
 },
 "nbformat": 4,
 "nbformat_minor": 4
}
